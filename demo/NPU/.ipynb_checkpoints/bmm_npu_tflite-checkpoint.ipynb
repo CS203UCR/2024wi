{
 "cells": [
  {
   "cell_type": "code",
   "execution_count": 46,
   "id": "7bcf11be-5ff5-4c69-82e2-ded4f7064e2b",
   "metadata": {},
   "outputs": [
    {
     "name": "stdout",
     "output_type": "stream",
     "text": [
      "----INFERENCE TIME----\n",
      "0.37ms\n",
      "0.06ms\n",
      "0.11ms\n",
      "0.02ms\n",
      "0.03ms\n",
      "[-2147483648 -2147483648 -2147483648 -2147483648 -2147483648]\n"
     ]
    }
   ],
   "source": [
    "import numpy as np\n",
    "import tensorflow as tf\n",
    "import time\n",
    "#from pycoral.adapters import classify\n",
    "#from pycoral.adapters import common\n",
    "#from pycoral.utils.dataset import read_label_file\n",
    "#from pycoral.utils.edgetpu import make_interpreter \n",
    "\n",
    "def main():\n",
    "    interpreter = tf.lite.Interpreter(model_path=\"bmm_npu.tflite\")\n",
    "    interpreter.allocate_tensors()\n",
    "    input_details = interpreter.get_input_details()\n",
    "    output_details = interpreter.get_output_details()\n",
    "# Run inference\n",
    "    print('----INFERENCE TIME----')\n",
    "#    print('Note: The first inference on Edge TPU is slow because it includes',\n",
    "#            'loading the model into Edge TPU memory.')\n",
    "    input_data = []\n",
    "    output_data = []\n",
    "    for x in range(5):\n",
    "        a = np.random.randint(2,size=16)\n",
    "        b = np.random.randint(2,size=8)\n",
    "        input_data = np.append(input_data,np.append(a,b))\n",
    "    input_data = input_data/2\n",
    "    input_data = np.int8(np.reshape(input_data,(5,24)))\n",
    "    \n",
    "    for x in range(5):\n",
    "        start = time.perf_counter()\n",
    " #       print(input_data[x])\n",
    "        interpreter.set_tensor(input_details[0]['index'], np.reshape(input_data[x],(1,24)))\n",
    "        interpreter.invoke()\n",
    "        output_data = np.append(output_data, interpreter.get_tensor(output_details[0]['index']))\n",
    "#        print(output_data[x].astype(np.int32))\n",
    "        inference_time = time.perf_counter() - start\n",
    "        print('%.2fms' % (inference_time * 1000))\n",
    "    print(output_data.astype(np.int32))\n",
    "    \n",
    "if __name__ == '__main__':\n",
    "  main()"
   ]
  },
  {
   "cell_type": "code",
   "execution_count": null,
   "id": "aed9ae26-0a42-4b2b-9b21-1650144a8069",
   "metadata": {},
   "outputs": [],
   "source": []
  }
 ],
 "metadata": {
  "kernelspec": {
   "display_name": "Python 3 (ipykernel)",
   "language": "python",
   "name": "python3"
  },
  "language_info": {
   "codemirror_mode": {
    "name": "ipython",
    "version": 3
   },
   "file_extension": ".py",
   "mimetype": "text/x-python",
   "name": "python",
   "nbconvert_exporter": "python",
   "pygments_lexer": "ipython3",
   "version": "3.8.10"
  },
  "widgets": {
   "application/vnd.jupyter.widget-state+json": {
    "state": {},
    "version_major": 2,
    "version_minor": 0
   }
  }
 },
 "nbformat": 4,
 "nbformat_minor": 5
}
