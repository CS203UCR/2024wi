{
 "cells": [
  {
   "cell_type": "code",
   "execution_count": 4,
   "id": "24edf788-b98e-474e-9a2e-9c796514611a",
   "metadata": {},
   "outputs": [
    {
     "name": "stdout",
     "output_type": "stream",
     "text": [
      "0.02ms\n",
      "0.01ms\n",
      "0.00ms\n",
      "0.00ms\n",
      "0.00ms\n"
     ]
    }
   ],
   "source": [
    "import numpy as np\n",
    "import tensorflow as tf\n",
    "import time\n",
    "\n",
    "def main():\n",
    "    for x in range(5):\n",
    "        a = np.random.randint(2,size=16)\n",
    "        b = np.random.randint(2,size=8)\n",
    "        a = np.reshape(a, (4,4))\n",
    "        b = np.reshape(b, (4,2))\n",
    "        start = time.perf_counter()\n",
    "        c = np.matmul(a,b)\n",
    "        c = c >> 1\n",
    "        inference_time = time.perf_counter() - start\n",
    "        print('%.2fms' % (inference_time * 1000))\n",
    "#        print(a)\n",
    "#        print(b)\n",
    "#        print(c)\n",
    "    \n",
    "if __name__ == '__main__':\n",
    "  main()"
   ]
  },
  {
   "cell_type": "code",
   "execution_count": null,
   "id": "1e2b3c76-716b-43c1-88cb-668082b14faa",
   "metadata": {},
   "outputs": [],
   "source": []
  }
 ],
 "metadata": {
  "kernelspec": {
   "display_name": "Python 3 (ipykernel)",
   "language": "python",
   "name": "python3"
  },
  "language_info": {
   "codemirror_mode": {
    "name": "ipython",
    "version": 3
   },
   "file_extension": ".py",
   "mimetype": "text/x-python",
   "name": "python",
   "nbconvert_exporter": "python",
   "pygments_lexer": "ipython3",
   "version": "3.8.10"
  },
  "widgets": {
   "application/vnd.jupyter.widget-state+json": {
    "state": {},
    "version_major": 2,
    "version_minor": 0
   }
  }
 },
 "nbformat": 4,
 "nbformat_minor": 5
}
